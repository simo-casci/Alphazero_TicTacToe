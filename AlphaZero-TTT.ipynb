{
 "cells": [
  {
   "cell_type": "code",
   "execution_count": 1,
   "metadata": {},
   "outputs": [],
   "source": [
    "INPUT_SHAPE = (3,3,3)\n",
    "LEARNING_RATE = 1e-3\n",
    "EPOCHS = 100\n",
    "C_PUCT = 4\n",
    "MCTS_ITERATIONS = 10\n",
    "DIRICHLET_ALPHA = 0.3\n",
    "EPSILON = .75\n",
    "TRAINING_SIZE = 64"
   ]
  },
  {
   "cell_type": "code",
   "execution_count": 2,
   "metadata": {},
   "outputs": [],
   "source": [
    "import numpy as np\n",
    "import random\n",
    "from tqdm import tqdm\n",
    "import math\n",
    "import keras\n",
    "from keras.layers import *\n",
    "from keras.models import Model\n",
    "from keras.optimizers import Adam\n",
    "import keras.utils as utils\n",
    "from keras.callbacks import LearningRateScheduler"
   ]
  },
  {
   "cell_type": "code",
   "execution_count": 3,
   "metadata": {},
   "outputs": [],
   "source": [
    "class Game:\n",
    "    def __init__(self):\n",
    "        self.board = np.zeros((3,3))\n",
    "        self.lastmove = None\n",
    "\n",
    "    def no_legal_moves(self):\n",
    "        for i in range(3):\n",
    "            for j in range(3):\n",
    "                if self.board[i][j] == 0:\n",
    "                    return False\n",
    "        return True\n",
    "    \n",
    "    def result(self):\n",
    "        def cross_winner():\n",
    "            cw = False\n",
    "            if (self.board[0][0] == self.board[1][1] == self.board[2][2]) and (self.board[0][0] != 0):\n",
    "                return self.board[0][0]\n",
    "            if (self.board[0][2] == self.board[1][1] == self.board[2][0]) and (self.board[0][2] != 0):\n",
    "                return self.board[0][2]\n",
    "            return 0\n",
    "        \n",
    "        def hor_winner():\n",
    "            for i in range(3):\n",
    "                if (self.board[i][0] == self.board[i][1] == self.board[i][2]) and (self.board[i][0] != 0):\n",
    "                    return self.board[i][0]\n",
    "            return 0\n",
    "\n",
    "        def ver_winner():\n",
    "            for i in range(3):\n",
    "                if (self.board[0][i] == self.board[1][i] == self.board[2][i]) and (self.board[0][i] != 0):\n",
    "                    return self.board[0][i]\n",
    "            return 0\n",
    "        \n",
    "        cw = cross_winner()\n",
    "        if cw != 0:\n",
    "            return cw\n",
    "        \n",
    "        hw = hor_winner()\n",
    "        if hw != 0:\n",
    "            return hw\n",
    "        \n",
    "        vw = ver_winner()\n",
    "        if vw != 0:\n",
    "            return vw\n",
    "\n",
    "        return 0\n",
    "\n",
    "    def is_game_over(self):\n",
    "        return self.result() != 0 or self.no_legal_moves()\n",
    "\n",
    "    def copy(self):\n",
    "        g = Game()\n",
    "        g.lastmove = self.lastmove\n",
    "        for i in range(3):\n",
    "            for j in range(3):\n",
    "                g.board[i][j] = self.board[i][j]\n",
    "        return g\n",
    "\n",
    "    def legal_moves(self):\n",
    "        lm = []\n",
    "        for i in range(3):\n",
    "            for j in range(3):\n",
    "                if self.board[i][j] == 0:\n",
    "                    lm.append((i, j))\n",
    "        return lm\n",
    "\n",
    "    def push(self, action, p):\n",
    "        if action in self.legal_moves():\n",
    "            r, c = action\n",
    "            self.board[r][c] = p\n",
    "            self.lastmove = p\n",
    "        else:\n",
    "            raise Exception(\"Illegal move exception\")\n",
    "    \n",
    "    def turn(self):\n",
    "        return -self.lastmove if self.lastmove != None else 1"
   ]
  },
  {
   "cell_type": "code",
   "execution_count": 4,
   "metadata": {},
   "outputs": [],
   "source": [
    "def b_to_img(b):\n",
    "    img = []\n",
    "    for i in range(3):\n",
    "        img.append(np.zeros((3,3)))\n",
    "    \n",
    "    img = np.asarray(img)\n",
    "\n",
    "    turn = b.turn()\n",
    "\n",
    "    for i in range(3):\n",
    "        for j in range(3):\n",
    "            if b.board[i][j] == 1:\n",
    "                img[0][i][j] = 1\n",
    "                            \n",
    "            if b.board[i][j] == -1:\n",
    "                img[1][i][j] = 1\n",
    "                \n",
    "            if turn == 1:\n",
    "                img[2][i][j] = 1\n",
    "    \n",
    "    return img"
   ]
  },
  {
   "cell_type": "code",
   "execution_count": 5,
   "metadata": {},
   "outputs": [],
   "source": [
    "def create_model(conv_size=256, conv_depth=1):\n",
    "    input_layer = Input(shape=INPUT_SHAPE, name='BoardInput')\n",
    "    \n",
    "    x = Conv2D(filters=conv_size, kernel_size=1)(input_layer)\n",
    "    for _ in range(conv_depth):\n",
    "        previous = x\n",
    "        x = Conv2D(filters=conv_size, kernel_size=1)(x)\n",
    "        x = BatchNormalization(axis=3)(x)\n",
    "        x = Activation('relu')(x)\n",
    "        x = Conv2D(filters=conv_size, kernel_size=1)(x)\n",
    "        x = BatchNormalization(axis=3)(x)\n",
    "        x = Add()([x, previous])\n",
    "        x = Activation('relu')(x)\n",
    "    x = Flatten()(x)\n",
    "    \n",
    "    x = Dense(1028, activation='relu')(x)\n",
    "    x = Dropout(.3)(x)\n",
    "    x = Dense(512, activation='relu')(x)\n",
    "    x = Dropout(.3)(x)\n",
    "\n",
    "    policy = Dense(9, activation='softmax', name='policy')(x)\n",
    "    value = Dense(1, activation='tanh', name='value')(x)\n",
    "\n",
    "    model = Model(inputs=input_layer, outputs=[policy, value])\n",
    "    \n",
    "    model.compile(loss=['categorical_crossentropy', 'mean_squared_error'], optimizer=Adam(lr=LEARNING_RATE))\n",
    "\n",
    "    return model"
   ]
  },
  {
   "cell_type": "code",
   "execution_count": 6,
   "metadata": {},
   "outputs": [],
   "source": [
    "model = create_model()\n",
    "#model = keras.models.load_model('model.h5')"
   ]
  },
  {
   "cell_type": "code",
   "execution_count": 7,
   "metadata": {},
   "outputs": [],
   "source": [
    "class MCTSNode:\n",
    "    def __init__(self, state, prior_probability, action=None, parent=None):\n",
    "        self.state = state\n",
    "        self.prior_probability = prior_probability\n",
    "        \n",
    "        self.action = action\n",
    "        self.parent = parent\n",
    "\n",
    "        self.children = []\n",
    "\n",
    "        self.N = 0\n",
    "        self.W = 0\n",
    "        self.Q = 0\n",
    "\n",
    "    def is_root(self):\n",
    "        return self.parent == None\n",
    "\n",
    "    def is_leaf(self):\n",
    "        return len(self.children) == 0\n",
    "\n",
    "    def set_children(self, nnet=model):\n",
    "        if not self.state.is_game_over():\n",
    "            prior_probs = nnet.predict(b_to_img(self.state).reshape(1,3,3,3))[0][0].reshape(3,3)\n",
    "            \n",
    "            lm = self.state.legal_moves()\n",
    "            \n",
    "            for i in range(len(prior_probs)):\n",
    "                for j in range(len(prior_probs[i])):\n",
    "                    if (i, j) not in lm:\n",
    "                        prior_probs[i][j] = 0\n",
    "            prior_probs = prior_probs.reshape((9,))\n",
    "            s = np.sum(prior_probs)\n",
    "            for i in range(len(prior_probs)):\n",
    "                prior_probs[i] = prior_probs[i] / s        \n",
    "            prior_probs = prior_probs.reshape((3,3))\n",
    "            \n",
    "            noise = np.random.dirichlet(np.ones(len(lm))*DIRICHLET_ALPHA)\n",
    "            \n",
    "            for i in range(len(lm)):\n",
    "                b = self.state.copy()\n",
    "                b.push(lm[i], b.turn())\n",
    "                r, c = lm[i][0], lm[i][1]\n",
    "                pp = prior_probs[r][c]\n",
    "                pp_n = EPSILON*pp + (1-EPSILON)*noise[i]\n",
    "                act = lm[i]\n",
    "                par = self\n",
    "                self.children.append(MCTSNode(b, pp_n, action=act, parent=par))\n",
    "    \n",
    "    def get_ucb(self, nnet):\n",
    "        return self.Q + C_PUCT * self.prior_probability * (math.sqrt(self.parent.N) / (1 + self.N))\n",
    "\n",
    "    def select_child(self, nnet=model):\n",
    "        if not self.state.is_game_over():\n",
    "            scores = [i.get_ucb(nnet) for i in self.children]\n",
    "            return self.children[np.argmax(scores)]\n",
    "        else:\n",
    "            return self\n",
    "\n",
    "    def rollout(self, nnet=model):\n",
    "        if not self.state.is_game_over():\n",
    "            result = nnet.predict(b_to_img(self.state).reshape(1,3,3,3))[1][0][0]\n",
    "        else:\n",
    "            result = self.state.result()\n",
    "\n",
    "        curr = self\n",
    "        while True:\n",
    "            curr.N += 1\n",
    "            r = result * -curr.state.turn()\n",
    "            curr.W += r\n",
    "            curr.Q = curr.W / curr.N\n",
    "            if curr.is_root():\n",
    "                break\n",
    "            else:\n",
    "                curr = curr.parent"
   ]
  },
  {
   "cell_type": "code",
   "execution_count": 8,
   "metadata": {},
   "outputs": [],
   "source": [
    "def model_vs_model(nnet1, nnet2, matches=10):\n",
    "    p1 = 0\n",
    "    p2 = 0\n",
    "    d =  0\n",
    "    \n",
    "    nnet1_player = 1\n",
    "    nnet2_player = -1\n",
    "    \n",
    "    for i in range(matches):\n",
    "        player = 1\n",
    "        game = Game()\n",
    "        while not game.is_game_over():\n",
    "            if player == nnet1_player:\n",
    "                root = MCTSNode(game, 1)\n",
    "                for i in range(MCTS_ITERATIONS // 2):\n",
    "                    iteration_done = False\n",
    "                    current = root\n",
    "                    while not iteration_done:\n",
    "                        if current.is_leaf():\n",
    "                            if current.N == 0:\n",
    "                                current.rollout()\n",
    "                                iteration_done = True\n",
    "                            elif current.N > 0:\n",
    "                                current.set_children()\n",
    "                                current = current.select_child()\n",
    "                                current.rollout()\n",
    "                                iteration_done = True\n",
    "                        else:\n",
    "                            current = current.select_child()\n",
    "\n",
    "                visits = [i.N for i in root.children]\n",
    "                s = sum(visits)\n",
    "                scores = [i / s for i in visits]\n",
    "                child = np.random.choice(root.children, p=scores)\n",
    "                row, col = child.action\n",
    "                assert(player == game.turn())\n",
    "                game.push(child.action, player)\n",
    "        \n",
    "                player *= -1\n",
    "            \n",
    "            elif player == nnet2_player:\n",
    "                root = MCTSNode(game, 1)\n",
    "                for i in range(MCTS_ITERATIONS // 2):\n",
    "                    iteration_done = False\n",
    "                    current = root\n",
    "                    while not iteration_done:\n",
    "                        if current.is_leaf():\n",
    "                            if current.N == 0:\n",
    "                                current.rollout()\n",
    "                                iteration_done = True\n",
    "                            elif current.N > 0:\n",
    "                                current.set_children()\n",
    "                                current = current.select_child()\n",
    "                                current.rollout()\n",
    "                                iteration_done = True\n",
    "                        else:\n",
    "                            current = current.select_child()\n",
    "\n",
    "                visits = [i.N for i in root.children]\n",
    "                s = sum(visits)\n",
    "                scores = [i / s for i in visits]\n",
    "                child = np.random.choice(root.children, p=scores)\n",
    "                row, col = child.action\n",
    "                assert(player == game.turn())\n",
    "                game.push(child.action, player)\n",
    "        \n",
    "                player *= -1\n",
    "        \n",
    "        if game.result() == nnet1_player:\n",
    "            p1 += 1\n",
    "        elif game.result() == nnet2_player:\n",
    "            p2 += 1\n",
    "        else:\n",
    "            d += 1\n",
    "            \n",
    "        nnet1_player *= -1\n",
    "        nnet2_player *= -1\n",
    "        \n",
    "    print(f'player 1 wins: {p1}')\n",
    "    print(f'player 2 wins: {p2}')\n",
    "    print(f'draws: {d}')\n",
    "        \n",
    "    if p2 >= matches * 60 / 100:\n",
    "        return True\n",
    "    else:\n",
    "        return False"
   ]
  },
  {
   "cell_type": "code",
   "execution_count": 9,
   "metadata": {
    "scrolled": true
   },
   "outputs": [
    {
     "name": "stderr",
     "output_type": "stream",
     "text": [
      " 10%|█         | 10/100 [00:15<02:12,  1.48s/it]"
     ]
    },
    {
     "name": "stdout",
     "output_type": "stream",
     "text": [
      "Epoch 1/4\n",
      "2/2 [==============================] - 0s 19ms/step - loss: 4.8645 - policy_loss: 3.1694 - value_loss: 1.6951\n",
      "Epoch 2/4\n",
      "2/2 [==============================] - 0s 21ms/step - loss: 3.1712 - policy_loss: 2.0903 - value_loss: 1.0809\n",
      "Epoch 3/4\n",
      "2/2 [==============================] - 0s 22ms/step - loss: 2.2130 - policy_loss: 1.6834 - value_loss: 0.5296\n",
      "Epoch 4/4\n",
      "2/2 [==============================] - 0s 27ms/step - loss: 2.0058 - policy_loss: 1.4662 - value_loss: 0.5396\n"
     ]
    },
    {
     "name": "stderr",
     "output_type": "stream",
     "text": [
      "\r",
      " 11%|█         | 11/100 [00:28<07:13,  4.87s/it]"
     ]
    },
    {
     "name": "stdout",
     "output_type": "stream",
     "text": [
      "player 1 wins: 6\n",
      "player 2 wins: 2\n",
      "draws: 2\n",
      "OLD MODEL WIN\n",
      "len match memory: 70\n",
      "Epoch 1/4\n",
      "4/4 [==============================] - 0s 28ms/step - loss: 4.1112 - policy_loss: 2.9154 - value_loss: 1.1957\n",
      "Epoch 2/4\n",
      "4/4 [==============================] - 0s 31ms/step - loss: 3.4129 - policy_loss: 2.0384 - value_loss: 1.3745\n",
      "Epoch 3/4\n",
      "4/4 [==============================] - 0s 30ms/step - loss: 2.0975 - policy_loss: 1.2270 - value_loss: 0.8705\n",
      "Epoch 4/4\n",
      "4/4 [==============================] - 0s 32ms/step - loss: 1.5891 - policy_loss: 0.7330 - value_loss: 0.8560\n"
     ]
    },
    {
     "name": "stderr",
     "output_type": "stream",
     "text": [
      "\r",
      " 12%|█▏        | 12/100 [00:40<10:23,  7.08s/it]"
     ]
    },
    {
     "name": "stdout",
     "output_type": "stream",
     "text": [
      "player 1 wins: 5\n",
      "player 2 wins: 5\n",
      "draws: 0\n",
      "OLD MODEL WIN\n",
      "len match memory: 77\n",
      "Epoch 1/4\n",
      "6/6 [==============================] - 0s 30ms/step - loss: 3.8715 - policy_loss: 2.6559 - value_loss: 1.2155\n",
      "Epoch 2/4\n",
      "6/6 [==============================] - 0s 34ms/step - loss: 2.3642 - policy_loss: 1.6288 - value_loss: 0.7354\n",
      "Epoch 3/4\n",
      "6/6 [==============================] - 0s 32ms/step - loss: 1.4830 - policy_loss: 0.9208 - value_loss: 0.5623\n",
      "Epoch 4/4\n",
      "6/6 [==============================] - 0s 32ms/step - loss: 1.0217 - policy_loss: 0.5703 - value_loss: 0.4514\n"
     ]
    },
    {
     "name": "stderr",
     "output_type": "stream",
     "text": [
      "\r",
      " 13%|█▎        | 13/100 [00:55<13:40,  9.43s/it]"
     ]
    },
    {
     "name": "stdout",
     "output_type": "stream",
     "text": [
      "player 1 wins: 6\n",
      "player 2 wins: 3\n",
      "draws: 1\n",
      "OLD MODEL WIN\n",
      "len match memory: 84\n",
      "Epoch 1/4\n",
      "8/8 [==============================] - 0s 33ms/step - loss: 5.1483 - policy_loss: 2.7646 - value_loss: 2.3837\n",
      "Epoch 2/4\n",
      "8/8 [==============================] - 0s 36ms/step - loss: 3.6751 - policy_loss: 1.2386 - value_loss: 2.4365\n",
      "Epoch 3/4\n",
      "8/8 [==============================] - 0s 38ms/step - loss: 2.9213 - policy_loss: 0.4908 - value_loss: 2.4305\n",
      "Epoch 4/4\n",
      "8/8 [==============================] - 0s 36ms/step - loss: 2.3151 - policy_loss: 0.2568 - value_loss: 2.0584\n"
     ]
    },
    {
     "name": "stderr",
     "output_type": "stream",
     "text": [
      "\r",
      " 14%|█▍        | 14/100 [01:09<15:29, 10.81s/it]"
     ]
    },
    {
     "name": "stdout",
     "output_type": "stream",
     "text": [
      "player 1 wins: 5\n",
      "player 2 wins: 3\n",
      "draws: 2\n",
      "OLD MODEL WIN\n",
      "len match memory: 91\n",
      "Epoch 1/4\n",
      "10/10 [==============================] - 0s 33ms/step - loss: 3.5549 - policy_loss: 2.2951 - value_loss: 1.2598\n",
      "Epoch 2/4\n",
      "10/10 [==============================] - 1s 54ms/step - loss: 1.9533 - policy_loss: 1.0696 - value_loss: 0.8837\n",
      "Epoch 3/4\n",
      "10/10 [==============================] - 0s 43ms/step - loss: 1.2425 - policy_loss: 0.5398 - value_loss: 0.7027\n",
      "Epoch 4/4\n",
      "10/10 [==============================] - 0s 36ms/step - loss: 0.9827 - policy_loss: 0.2613 - value_loss: 0.7215\n"
     ]
    },
    {
     "name": "stderr",
     "output_type": "stream",
     "text": [
      "\r",
      " 15%|█▌        | 15/100 [01:23<16:45, 11.83s/it]"
     ]
    },
    {
     "name": "stdout",
     "output_type": "stream",
     "text": [
      "player 1 wins: 5\n",
      "player 2 wins: 4\n",
      "draws: 1\n",
      "OLD MODEL WIN\n",
      "len match memory: 97\n",
      "Epoch 1/4\n",
      "12/12 [==============================] - 0s 37ms/step - loss: 3.6414 - policy_loss: 2.3317 - value_loss: 1.3096\n",
      "Epoch 2/4\n",
      "12/12 [==============================] - 0s 38ms/step - loss: 1.6898 - policy_loss: 1.0614 - value_loss: 0.6284\n",
      "Epoch 3/4\n",
      "12/12 [==============================] - 0s 38ms/step - loss: 0.8928 - policy_loss: 0.4810 - value_loss: 0.4118\n",
      "Epoch 4/4\n",
      "12/12 [==============================] - 0s 37ms/step - loss: 0.5790 - policy_loss: 0.2045 - value_loss: 0.3745\n"
     ]
    },
    {
     "name": "stderr",
     "output_type": "stream",
     "text": [
      "\r",
      " 16%|█▌        | 16/100 [01:38<17:56, 12.82s/it]"
     ]
    },
    {
     "name": "stdout",
     "output_type": "stream",
     "text": [
      "player 1 wins: 4\n",
      "player 2 wins: 5\n",
      "draws: 1\n",
      "OLD MODEL WIN\n",
      "len match memory: 106\n",
      "Epoch 1/4\n",
      "14/14 [==============================] - 1s 51ms/step - loss: 3.0606 - policy_loss: 2.0002 - value_loss: 1.0603\n",
      "Epoch 2/4\n",
      "14/14 [==============================] - 1s 41ms/step - loss: 1.3802 - policy_loss: 0.8327 - value_loss: 0.5475\n",
      "Epoch 3/4\n",
      "14/14 [==============================] - 1s 39ms/step - loss: 0.7891 - policy_loss: 0.3152 - value_loss: 0.4740\n",
      "Epoch 4/4\n",
      "14/14 [==============================] - 1s 37ms/step - loss: 0.6647 - policy_loss: 0.2261 - value_loss: 0.4386\n"
     ]
    },
    {
     "name": "stderr",
     "output_type": "stream",
     "text": [
      "\r",
      " 17%|█▋        | 17/100 [01:52<18:18, 13.24s/it]"
     ]
    },
    {
     "name": "stdout",
     "output_type": "stream",
     "text": [
      "player 1 wins: 5\n",
      "player 2 wins: 5\n",
      "draws: 0\n",
      "OLD MODEL WIN\n",
      "len match memory: 111\n",
      "Epoch 1/4\n",
      "16/16 [==============================] - 1s 35ms/step - loss: 3.0943 - policy_loss: 2.2120 - value_loss: 0.8823\n",
      "Epoch 2/4\n",
      "16/16 [==============================] - 1s 38ms/step - loss: 1.3181 - policy_loss: 0.8025 - value_loss: 0.5156\n",
      "Epoch 3/4\n",
      "16/16 [==============================] - 1s 38ms/step - loss: 0.7910 - policy_loss: 0.3620 - value_loss: 0.4291\n",
      "Epoch 4/4\n",
      "16/16 [==============================] - 1s 37ms/step - loss: 0.6269 - policy_loss: 0.1669 - value_loss: 0.4601\n"
     ]
    },
    {
     "name": "stderr",
     "output_type": "stream",
     "text": [
      "\r",
      " 18%|█▊        | 18/100 [02:10<20:03, 14.68s/it]"
     ]
    },
    {
     "name": "stdout",
     "output_type": "stream",
     "text": [
      "player 1 wins: 3\n",
      "player 2 wins: 5\n",
      "draws: 2\n",
      "OLD MODEL WIN\n",
      "len match memory: 119\n",
      "Epoch 1/4\n",
      "18/18 [==============================] - 1s 43ms/step - loss: 3.1619 - policy_loss: 2.0272 - value_loss: 1.1347\n",
      "Epoch 2/4\n",
      "18/18 [==============================] - 1s 43ms/step - loss: 1.2443 - policy_loss: 0.6877 - value_loss: 0.5566\n",
      "Epoch 3/4\n",
      "18/18 [==============================] - 1s 44ms/step - loss: 0.7672 - policy_loss: 0.3034 - value_loss: 0.4637\n",
      "Epoch 4/4\n",
      "18/18 [==============================] - 1s 52ms/step - loss: 0.5667 - policy_loss: 0.1881 - value_loss: 0.3786\n"
     ]
    },
    {
     "name": "stderr",
     "output_type": "stream",
     "text": [
      "\r",
      " 19%|█▉        | 19/100 [02:27<20:44, 15.37s/it]"
     ]
    },
    {
     "name": "stdout",
     "output_type": "stream",
     "text": [
      "player 1 wins: 7\n",
      "player 2 wins: 3\n",
      "draws: 0\n",
      "OLD MODEL WIN\n",
      "len match memory: 126\n",
      "Epoch 1/4\n",
      "20/20 [==============================] - 1s 36ms/step - loss: 3.0292 - policy_loss: 2.0322 - value_loss: 0.9970\n",
      "Epoch 2/4\n",
      "20/20 [==============================] - 1s 37ms/step - loss: 1.3468 - policy_loss: 0.7417 - value_loss: 0.6051\n",
      "Epoch 3/4\n",
      "20/20 [==============================] - 1s 42ms/step - loss: 0.7447 - policy_loss: 0.2982 - value_loss: 0.4464\n",
      "Epoch 4/4\n",
      "20/20 [==============================] - 1s 47ms/step - loss: 0.5046 - policy_loss: 0.1885 - value_loss: 0.3160\n"
     ]
    },
    {
     "name": "stderr",
     "output_type": "stream",
     "text": [
      "\r",
      " 20%|██        | 20/100 [02:44<20:54, 15.68s/it]"
     ]
    },
    {
     "name": "stdout",
     "output_type": "stream",
     "text": [
      "player 1 wins: 6\n",
      "player 2 wins: 2\n",
      "draws: 2\n",
      "OLD MODEL WIN\n",
      "len match memory: 135\n",
      "Epoch 1/4\n",
      "22/22 [==============================] - 1s 34ms/step - loss: 2.9737 - policy_loss: 1.7640 - value_loss: 1.2097\n",
      "Epoch 2/4\n",
      "22/22 [==============================] - 1s 36ms/step - loss: 1.2102 - policy_loss: 0.5421 - value_loss: 0.6681\n",
      "Epoch 3/4\n",
      "22/22 [==============================] - 1s 39ms/step - loss: 0.8001 - policy_loss: 0.2338 - value_loss: 0.5663\n",
      "Epoch 4/4\n",
      "22/22 [==============================] - 1s 47ms/step - loss: 0.5133 - policy_loss: 0.1367 - value_loss: 0.3766\n"
     ]
    },
    {
     "name": "stderr",
     "output_type": "stream",
     "text": [
      "\r",
      " 21%|██        | 21/100 [03:01<21:08, 16.06s/it]"
     ]
    },
    {
     "name": "stdout",
     "output_type": "stream",
     "text": [
      "player 1 wins: 5\n",
      "player 2 wins: 4\n",
      "draws: 1\n",
      "OLD MODEL WIN\n",
      "len match memory: 144\n",
      "Epoch 1/4\n",
      "24/24 [==============================] - 1s 36ms/step - loss: 2.7283 - policy_loss: 1.8192 - value_loss: 0.9091\n",
      "Epoch 2/4\n",
      "24/24 [==============================] - 1s 36ms/step - loss: 1.2974 - policy_loss: 0.5825 - value_loss: 0.7149\n",
      "Epoch 3/4\n",
      "24/24 [==============================] - 1s 37ms/step - loss: 0.8890 - policy_loss: 0.2435 - value_loss: 0.6455\n",
      "Epoch 4/4\n",
      "24/24 [==============================] - 1s 41ms/step - loss: 0.5656 - policy_loss: 0.1630 - value_loss: 0.4026\n"
     ]
    },
    {
     "name": "stderr",
     "output_type": "stream",
     "text": [
      "\r",
      " 22%|██▏       | 22/100 [03:17<21:06, 16.24s/it]"
     ]
    },
    {
     "name": "stdout",
     "output_type": "stream",
     "text": [
      "player 1 wins: 1\n",
      "player 2 wins: 8\n",
      "draws: 1\n",
      "NEW MODEL WIN/DRAW\n",
      "len match memory: 0\n"
     ]
    },
    {
     "name": "stderr",
     "output_type": "stream",
     "text": [
      " 31%|███       | 31/100 [03:32<02:24,  2.09s/it]"
     ]
    },
    {
     "name": "stdout",
     "output_type": "stream",
     "text": [
      "Epoch 1/4\n",
      "2/2 [==============================] - 0s 22ms/step - loss: 3.8369 - policy_loss: 2.2297 - value_loss: 1.6072\n",
      "Epoch 2/4\n",
      "2/2 [==============================] - 0s 24ms/step - loss: 2.7637 - policy_loss: 1.5452 - value_loss: 1.2185\n",
      "Epoch 3/4\n",
      "2/2 [==============================] - 0s 28ms/step - loss: 1.7185 - policy_loss: 1.0301 - value_loss: 0.6884\n",
      "Epoch 4/4\n",
      "2/2 [==============================] - 0s 29ms/step - loss: 1.2022 - policy_loss: 0.6534 - value_loss: 0.5488\n"
     ]
    },
    {
     "name": "stderr",
     "output_type": "stream",
     "text": [
      "\r",
      " 32%|███▏      | 32/100 [03:44<05:25,  4.79s/it]"
     ]
    },
    {
     "name": "stdout",
     "output_type": "stream",
     "text": [
      "player 1 wins: 6\n",
      "player 2 wins: 4\n",
      "draws: 0\n",
      "OLD MODEL WIN\n",
      "len match memory: 68\n",
      "Epoch 1/4\n",
      "4/4 [==============================] - 0s 27ms/step - loss: 3.3034 - policy_loss: 2.1448 - value_loss: 1.1586\n",
      "Epoch 2/4\n",
      "4/4 [==============================] - 0s 29ms/step - loss: 1.5760 - policy_loss: 0.9790 - value_loss: 0.5970\n",
      "Epoch 3/4\n",
      "4/4 [==============================] - 0s 33ms/step - loss: 1.0624 - policy_loss: 0.4758 - value_loss: 0.5866\n",
      "Epoch 4/4\n",
      "4/4 [==============================] - 0s 32ms/step - loss: 0.7843 - policy_loss: 0.3493 - value_loss: 0.4350\n"
     ]
    },
    {
     "name": "stderr",
     "output_type": "stream",
     "text": [
      "\r",
      " 33%|███▎      | 33/100 [03:58<08:34,  7.68s/it]"
     ]
    },
    {
     "name": "stdout",
     "output_type": "stream",
     "text": [
      "player 1 wins: 4\n",
      "player 2 wins: 2\n",
      "draws: 4\n",
      "OLD MODEL WIN\n",
      "len match memory: 76\n",
      "Epoch 1/4\n",
      "6/6 [==============================] - 0s 48ms/step - loss: 2.9989 - policy_loss: 1.9210 - value_loss: 1.0780\n",
      "Epoch 2/4\n",
      "6/6 [==============================] - 0s 43ms/step - loss: 1.2826 - policy_loss: 0.5793 - value_loss: 0.7033\n",
      "Epoch 3/4\n",
      "6/6 [==============================] - 0s 33ms/step - loss: 0.7778 - policy_loss: 0.3457 - value_loss: 0.4321\n",
      "Epoch 4/4\n",
      "6/6 [==============================] - 0s 33ms/step - loss: 0.6162 - policy_loss: 0.2818 - value_loss: 0.3343\n"
     ]
    },
    {
     "name": "stderr",
     "output_type": "stream",
     "text": [
      "\r",
      " 34%|███▍      | 34/100 [04:11<10:10,  9.25s/it]"
     ]
    },
    {
     "name": "stdout",
     "output_type": "stream",
     "text": [
      "player 1 wins: 5\n",
      "player 2 wins: 4\n",
      "draws: 1\n",
      "OLD MODEL WIN\n",
      "len match memory: 82\n",
      "Epoch 1/4\n",
      "8/8 [==============================] - 0s 31ms/step - loss: 2.4283 - policy_loss: 1.5909 - value_loss: 0.8375\n",
      "Epoch 2/4\n",
      "8/8 [==============================] - 0s 33ms/step - loss: 0.9360 - policy_loss: 0.4974 - value_loss: 0.4386\n",
      "Epoch 3/4\n",
      "8/8 [==============================] - 0s 34ms/step - loss: 0.5478 - policy_loss: 0.2416 - value_loss: 0.3062\n",
      "Epoch 4/4\n",
      "8/8 [==============================] - 0s 35ms/step - loss: 0.3916 - policy_loss: 0.1692 - value_loss: 0.2224\n"
     ]
    },
    {
     "name": "stderr",
     "output_type": "stream",
     "text": [
      "\r",
      " 35%|███▌      | 35/100 [04:25<11:29, 10.61s/it]"
     ]
    },
    {
     "name": "stdout",
     "output_type": "stream",
     "text": [
      "player 1 wins: 5\n",
      "player 2 wins: 5\n",
      "draws: 0\n",
      "OLD MODEL WIN\n",
      "len match memory: 89\n",
      "Epoch 1/4\n",
      "10/10 [==============================] - 0s 33ms/step - loss: 2.5551 - policy_loss: 1.6416 - value_loss: 0.9135\n",
      "Epoch 2/4\n",
      "10/10 [==============================] - 0s 35ms/step - loss: 1.2241 - policy_loss: 0.4759 - value_loss: 0.7482\n",
      "Epoch 3/4\n",
      "10/10 [==============================] - 0s 33ms/step - loss: 0.8931 - policy_loss: 0.1828 - value_loss: 0.7103\n",
      "Epoch 4/4\n",
      "10/10 [==============================] - 0s 34ms/step - loss: 0.7616 - policy_loss: 0.0939 - value_loss: 0.6677\n"
     ]
    },
    {
     "name": "stderr",
     "output_type": "stream",
     "text": [
      "\r",
      " 36%|███▌      | 36/100 [04:40<12:44, 11.95s/it]"
     ]
    },
    {
     "name": "stdout",
     "output_type": "stream",
     "text": [
      "player 1 wins: 4\n",
      "player 2 wins: 5\n",
      "draws: 1\n",
      "OLD MODEL WIN\n",
      "len match memory: 95\n",
      "Epoch 1/4\n",
      "12/12 [==============================] - 0s 32ms/step - loss: 2.3360 - policy_loss: 1.4451 - value_loss: 0.8909\n",
      "Epoch 2/4\n",
      "12/12 [==============================] - 0s 35ms/step - loss: 0.9636 - policy_loss: 0.4693 - value_loss: 0.4943\n",
      "Epoch 3/4\n",
      "12/12 [==============================] - 0s 34ms/step - loss: 0.5987 - policy_loss: 0.2189 - value_loss: 0.3798\n",
      "Epoch 4/4\n",
      "12/12 [==============================] - 0s 34ms/step - loss: 0.4344 - policy_loss: 0.1523 - value_loss: 0.2822\n"
     ]
    },
    {
     "name": "stderr",
     "output_type": "stream",
     "text": [
      "\r",
      " 37%|███▋      | 37/100 [04:54<13:10, 12.55s/it]"
     ]
    },
    {
     "name": "stdout",
     "output_type": "stream",
     "text": [
      "player 1 wins: 2\n",
      "player 2 wins: 7\n",
      "draws: 1\n",
      "NEW MODEL WIN/DRAW\n",
      "len match memory: 0\n"
     ]
    },
    {
     "name": "stderr",
     "output_type": "stream",
     "text": [
      " 46%|████▌     | 46/100 [05:09<01:54,  2.11s/it]"
     ]
    },
    {
     "name": "stdout",
     "output_type": "stream",
     "text": [
      "Epoch 1/4\n",
      "2/2 [==============================] - 0s 19ms/step - loss: 4.2333 - policy_loss: 3.1978 - value_loss: 1.0355\n",
      "Epoch 2/4\n",
      "2/2 [==============================] - 0s 21ms/step - loss: 2.6155 - policy_loss: 1.6727 - value_loss: 0.9428\n",
      "Epoch 3/4\n",
      "2/2 [==============================] - 0s 22ms/step - loss: 2.0097 - policy_loss: 0.9586 - value_loss: 1.0512\n",
      "Epoch 4/4\n",
      "2/2 [==============================] - 0s 27ms/step - loss: 1.6840 - policy_loss: 0.8057 - value_loss: 0.8782\n"
     ]
    },
    {
     "name": "stderr",
     "output_type": "stream",
     "text": [
      "\r",
      " 47%|████▋     | 47/100 [05:21<04:35,  5.20s/it]"
     ]
    },
    {
     "name": "stdout",
     "output_type": "stream",
     "text": [
      "player 1 wins: 2\n",
      "player 2 wins: 5\n",
      "draws: 3\n",
      "OLD MODEL WIN\n",
      "len match memory: 65\n",
      "Epoch 1/4\n",
      "4/4 [==============================] - 0s 28ms/step - loss: 3.1243 - policy_loss: 2.1271 - value_loss: 0.9972\n",
      "Epoch 2/4\n",
      "4/4 [==============================] - 0s 29ms/step - loss: 1.9335 - policy_loss: 0.9606 - value_loss: 0.9729\n",
      "Epoch 3/4\n",
      "4/4 [==============================] - 0s 32ms/step - loss: 1.0475 - policy_loss: 0.3116 - value_loss: 0.7359\n",
      "Epoch 4/4\n",
      "4/4 [==============================] - 0s 30ms/step - loss: 0.9482 - policy_loss: 0.3967 - value_loss: 0.5515\n"
     ]
    },
    {
     "name": "stderr",
     "output_type": "stream",
     "text": [
      "\r",
      " 48%|████▊     | 48/100 [05:34<06:35,  7.60s/it]"
     ]
    },
    {
     "name": "stdout",
     "output_type": "stream",
     "text": [
      "player 1 wins: 4\n",
      "player 2 wins: 4\n",
      "draws: 2\n",
      "OLD MODEL WIN\n",
      "len match memory: 71\n",
      "Epoch 1/4\n",
      "6/6 [==============================] - 0s 31ms/step - loss: 2.9543 - policy_loss: 1.8831 - value_loss: 1.0712\n",
      "Epoch 2/4\n",
      "6/6 [==============================] - 0s 35ms/step - loss: 1.6085 - policy_loss: 0.6871 - value_loss: 0.9214\n",
      "Epoch 3/4\n",
      "6/6 [==============================] - 0s 32ms/step - loss: 1.1361 - policy_loss: 0.3359 - value_loss: 0.8002\n",
      "Epoch 4/4\n",
      "6/6 [==============================] - 0s 32ms/step - loss: 0.6958 - policy_loss: 0.1068 - value_loss: 0.5890\n"
     ]
    },
    {
     "name": "stderr",
     "output_type": "stream",
     "text": [
      "\r",
      " 49%|████▉     | 49/100 [05:48<08:01,  9.44s/it]"
     ]
    },
    {
     "name": "stdout",
     "output_type": "stream",
     "text": [
      "player 1 wins: 5\n",
      "player 2 wins: 5\n",
      "draws: 0\n",
      "OLD MODEL WIN\n",
      "len match memory: 78\n",
      "Epoch 1/4\n",
      "8/8 [==============================] - 0s 32ms/step - loss: 2.7064 - policy_loss: 1.7561 - value_loss: 0.9503\n",
      "Epoch 2/4\n",
      "8/8 [==============================] - 0s 35ms/step - loss: 1.3740 - policy_loss: 0.6015 - value_loss: 0.7725\n",
      "Epoch 3/4\n",
      "8/8 [==============================] - 0s 34ms/step - loss: 0.8707 - policy_loss: 0.3932 - value_loss: 0.4775\n",
      "Epoch 4/4\n",
      "8/8 [==============================] - 0s 36ms/step - loss: 0.5844 - policy_loss: 0.2054 - value_loss: 0.3790\n"
     ]
    },
    {
     "name": "stderr",
     "output_type": "stream",
     "text": [
      "\r",
      " 50%|█████     | 50/100 [06:02<09:07, 10.95s/it]"
     ]
    },
    {
     "name": "stdout",
     "output_type": "stream",
     "text": [
      "player 1 wins: 4\n",
      "player 2 wins: 5\n",
      "draws: 1\n",
      "OLD MODEL WIN\n",
      "len match memory: 87\n",
      "Epoch 1/4\n",
      "10/10 [==============================] - 0s 34ms/step - loss: 2.4427 - policy_loss: 1.6267 - value_loss: 0.8160\n",
      "Epoch 2/4\n",
      "10/10 [==============================] - 0s 36ms/step - loss: 1.1062 - policy_loss: 0.5745 - value_loss: 0.5317\n",
      "Epoch 3/4\n",
      "10/10 [==============================] - 0s 35ms/step - loss: 0.6221 - policy_loss: 0.2245 - value_loss: 0.3976\n",
      "Epoch 4/4\n",
      "10/10 [==============================] - 0s 36ms/step - loss: 0.5076 - policy_loss: 0.1558 - value_loss: 0.3518\n"
     ]
    },
    {
     "name": "stderr",
     "output_type": "stream",
     "text": [
      "\r",
      " 51%|█████     | 51/100 [06:19<10:19, 12.63s/it]"
     ]
    },
    {
     "name": "stdout",
     "output_type": "stream",
     "text": [
      "player 1 wins: 4\n",
      "player 2 wins: 4\n",
      "draws: 2\n",
      "OLD MODEL WIN\n",
      "len match memory: 96\n",
      "Epoch 1/4\n",
      "12/12 [==============================] - 0s 32ms/step - loss: 2.4083 - policy_loss: 1.5536 - value_loss: 0.8547\n",
      "Epoch 2/4\n",
      "12/12 [==============================] - 0s 36ms/step - loss: 1.0472 - policy_loss: 0.4490 - value_loss: 0.5982\n",
      "Epoch 3/4\n",
      "12/12 [==============================] - 0s 34ms/step - loss: 0.7182 - policy_loss: 0.2653 - value_loss: 0.4529\n",
      "Epoch 4/4\n",
      "12/12 [==============================] - 0s 36ms/step - loss: 0.5181 - policy_loss: 0.1326 - value_loss: 0.3855\n"
     ]
    },
    {
     "name": "stderr",
     "output_type": "stream",
     "text": [
      "\r",
      " 52%|█████▏    | 52/100 [06:33<10:28, 13.08s/it]"
     ]
    },
    {
     "name": "stdout",
     "output_type": "stream",
     "text": [
      "player 1 wins: 7\n",
      "player 2 wins: 2\n",
      "draws: 1\n",
      "OLD MODEL WIN\n",
      "len match memory: 104\n",
      "Epoch 1/4\n",
      "14/14 [==============================] - 1s 50ms/step - loss: 2.2175 - policy_loss: 1.3473 - value_loss: 0.8701\n",
      "Epoch 2/4\n",
      "14/14 [==============================] - 1s 38ms/step - loss: 0.9513 - policy_loss: 0.4581 - value_loss: 0.4932\n",
      "Epoch 3/4\n",
      "14/14 [==============================] - 1s 36ms/step - loss: 0.6458 - policy_loss: 0.2475 - value_loss: 0.3983\n",
      "Epoch 4/4\n",
      "14/14 [==============================] - 1s 39ms/step - loss: 0.5363 - policy_loss: 0.1529 - value_loss: 0.3834\n"
     ]
    },
    {
     "name": "stderr",
     "output_type": "stream",
     "text": [
      "\r",
      " 53%|█████▎    | 53/100 [06:48<10:47, 13.77s/it]"
     ]
    },
    {
     "name": "stdout",
     "output_type": "stream",
     "text": [
      "player 1 wins: 4\n",
      "player 2 wins: 4\n",
      "draws: 2\n",
      "OLD MODEL WIN\n",
      "len match memory: 113\n",
      "Epoch 1/4\n",
      "16/16 [==============================] - 1s 33ms/step - loss: 2.4331 - policy_loss: 1.3356 - value_loss: 1.0974\n",
      "Epoch 2/4\n",
      "16/16 [==============================] - 1s 43ms/step - loss: 1.1040 - policy_loss: 0.3531 - value_loss: 0.7510\n",
      "Epoch 3/4\n",
      "16/16 [==============================] - 1s 44ms/step - loss: 0.7168 - policy_loss: 0.2218 - value_loss: 0.4950\n",
      "Epoch 4/4\n",
      "16/16 [==============================] - 1s 36ms/step - loss: 0.4727 - policy_loss: 0.1362 - value_loss: 0.3365\n"
     ]
    },
    {
     "name": "stderr",
     "output_type": "stream",
     "text": [
      "\r",
      " 54%|█████▍    | 54/100 [07:02<10:31, 13.74s/it]"
     ]
    },
    {
     "name": "stdout",
     "output_type": "stream",
     "text": [
      "player 1 wins: 4\n",
      "player 2 wins: 5\n",
      "draws: 1\n",
      "OLD MODEL WIN\n",
      "len match memory: 118\n",
      "Epoch 1/4\n",
      "18/18 [==============================] - 1s 35ms/step - loss: 2.1484 - policy_loss: 1.3710 - value_loss: 0.7774\n",
      "Epoch 2/4\n",
      "18/18 [==============================] - 1s 36ms/step - loss: 0.8170 - policy_loss: 0.3596 - value_loss: 0.4575\n",
      "Epoch 3/4\n",
      "18/18 [==============================] - 1s 35ms/step - loss: 0.5952 - policy_loss: 0.2105 - value_loss: 0.3847\n",
      "Epoch 4/4\n",
      "18/18 [==============================] - 1s 36ms/step - loss: 0.4918 - policy_loss: 0.1328 - value_loss: 0.3590\n"
     ]
    },
    {
     "name": "stderr",
     "output_type": "stream",
     "text": [
      "\r",
      " 55%|█████▌    | 55/100 [07:16<10:25, 13.91s/it]"
     ]
    },
    {
     "name": "stdout",
     "output_type": "stream",
     "text": [
      "player 1 wins: 5\n",
      "player 2 wins: 5\n",
      "draws: 0\n",
      "OLD MODEL WIN\n",
      "len match memory: 126\n",
      "Epoch 1/4\n",
      "20/20 [==============================] - 1s 34ms/step - loss: 2.0432 - policy_loss: 1.3019 - value_loss: 0.7413\n",
      "Epoch 2/4\n",
      "20/20 [==============================] - 1s 35ms/step - loss: 0.8746 - policy_loss: 0.3677 - value_loss: 0.5070\n",
      "Epoch 3/4\n",
      "20/20 [==============================] - 1s 35ms/step - loss: 0.6871 - policy_loss: 0.1848 - value_loss: 0.5024\n",
      "Epoch 4/4\n",
      "20/20 [==============================] - 1s 49ms/step - loss: 0.6077 - policy_loss: 0.1550 - value_loss: 0.4526\n"
     ]
    },
    {
     "name": "stderr",
     "output_type": "stream",
     "text": [
      "\r",
      " 56%|█████▌    | 56/100 [07:32<10:30, 14.32s/it]"
     ]
    },
    {
     "name": "stdout",
     "output_type": "stream",
     "text": [
      "player 1 wins: 5\n",
      "player 2 wins: 4\n",
      "draws: 1\n",
      "OLD MODEL WIN\n",
      "len match memory: 135\n",
      "Epoch 1/4\n",
      "22/22 [==============================] - 1s 35ms/step - loss: 2.0799 - policy_loss: 1.2587 - value_loss: 0.8212\n",
      "Epoch 2/4\n",
      "22/22 [==============================] - 1s 36ms/step - loss: 0.9391 - policy_loss: 0.3449 - value_loss: 0.5942\n",
      "Epoch 3/4\n",
      "22/22 [==============================] - 1s 35ms/step - loss: 0.6718 - policy_loss: 0.1865 - value_loss: 0.4853\n",
      "Epoch 4/4\n",
      "22/22 [==============================] - 1s 36ms/step - loss: 0.6063 - policy_loss: 0.1381 - value_loss: 0.4682\n"
     ]
    },
    {
     "name": "stderr",
     "output_type": "stream",
     "text": [
      "\r",
      " 57%|█████▋    | 57/100 [07:47<10:32, 14.71s/it]"
     ]
    },
    {
     "name": "stdout",
     "output_type": "stream",
     "text": [
      "player 1 wins: 5\n",
      "player 2 wins: 3\n",
      "draws: 2\n",
      "OLD MODEL WIN\n",
      "len match memory: 143\n",
      "Epoch 1/4\n",
      "24/24 [==============================] - 1s 34ms/step - loss: 2.0018 - policy_loss: 1.2331 - value_loss: 0.7688\n",
      "Epoch 2/4\n",
      "24/24 [==============================] - 1s 35ms/step - loss: 0.9468 - policy_loss: 0.3768 - value_loss: 0.5700\n",
      "Epoch 3/4\n",
      "24/24 [==============================] - 1s 35ms/step - loss: 0.7270 - policy_loss: 0.2221 - value_loss: 0.5049\n",
      "Epoch 4/4\n",
      "24/24 [==============================] - 1s 37ms/step - loss: 0.6118 - policy_loss: 0.1495 - value_loss: 0.4624\n"
     ]
    },
    {
     "name": "stderr",
     "output_type": "stream",
     "text": [
      "\r",
      " 58%|█████▊    | 58/100 [08:03<10:23, 14.84s/it]"
     ]
    },
    {
     "name": "stdout",
     "output_type": "stream",
     "text": [
      "player 1 wins: 7\n",
      "player 2 wins: 2\n",
      "draws: 1\n",
      "OLD MODEL WIN\n",
      "len match memory: 152\n",
      "Epoch 1/4\n",
      "26/26 [==============================] - 1s 35ms/step - loss: 1.9037 - policy_loss: 1.1224 - value_loss: 0.7813\n",
      "Epoch 2/4\n",
      "26/26 [==============================] - 1s 36ms/step - loss: 0.7661 - policy_loss: 0.2928 - value_loss: 0.4733\n",
      "Epoch 3/4\n",
      "26/26 [==============================] - 1s 36ms/step - loss: 0.5669 - policy_loss: 0.1793 - value_loss: 0.3877\n",
      "Epoch 4/4\n",
      "26/26 [==============================] - 1s 36ms/step - loss: 0.5139 - policy_loss: 0.1480 - value_loss: 0.3659\n"
     ]
    },
    {
     "name": "stderr",
     "output_type": "stream",
     "text": [
      "\r",
      " 59%|█████▉    | 59/100 [08:19<10:25, 15.26s/it]"
     ]
    },
    {
     "name": "stdout",
     "output_type": "stream",
     "text": [
      "player 1 wins: 3\n",
      "player 2 wins: 6\n",
      "draws: 1\n",
      "NEW MODEL WIN/DRAW\n",
      "len match memory: 0\n"
     ]
    },
    {
     "name": "stderr",
     "output_type": "stream",
     "text": [
      " 68%|██████▊   | 68/100 [08:34<01:10,  2.21s/it]"
     ]
    },
    {
     "name": "stdout",
     "output_type": "stream",
     "text": [
      "Epoch 1/4\n",
      "2/2 [==============================] - 0s 14ms/step - loss: 4.8915 - policy_loss: 3.2812 - value_loss: 1.6103\n",
      "Epoch 2/4\n",
      "2/2 [==============================] - 0s 24ms/step - loss: 3.3013 - policy_loss: 2.0026 - value_loss: 1.2988\n",
      "Epoch 3/4\n",
      "2/2 [==============================] - 0s 22ms/step - loss: 2.4126 - policy_loss: 1.3855 - value_loss: 1.0272\n",
      "Epoch 4/4\n",
      "2/2 [==============================] - 0s 24ms/step - loss: 1.9254 - policy_loss: 1.1014 - value_loss: 0.8240\n"
     ]
    },
    {
     "name": "stderr",
     "output_type": "stream",
     "text": [
      "\r",
      " 69%|██████▉   | 69/100 [08:45<02:30,  4.84s/it]"
     ]
    },
    {
     "name": "stdout",
     "output_type": "stream",
     "text": [
      "player 1 wins: 7\n",
      "player 2 wins: 2\n",
      "draws: 1\n",
      "OLD MODEL WIN\n",
      "len match memory: 68\n",
      "Epoch 1/4\n",
      "4/4 [==============================] - 0s 27ms/step - loss: 3.4019 - policy_loss: 2.1097 - value_loss: 1.2922\n",
      "Epoch 2/4\n",
      "4/4 [==============================] - 0s 28ms/step - loss: 2.2127 - policy_loss: 1.3009 - value_loss: 0.9118\n",
      "Epoch 3/4\n",
      "4/4 [==============================] - 0s 29ms/step - loss: 1.3191 - policy_loss: 0.5899 - value_loss: 0.7292\n",
      "Epoch 4/4\n",
      "4/4 [==============================] - 0s 27ms/step - loss: 1.0673 - policy_loss: 0.4229 - value_loss: 0.6444\n"
     ]
    },
    {
     "name": "stderr",
     "output_type": "stream",
     "text": [
      "\r",
      " 70%|███████   | 70/100 [08:56<03:26,  6.87s/it]"
     ]
    },
    {
     "name": "stdout",
     "output_type": "stream",
     "text": [
      "player 1 wins: 5\n",
      "player 2 wins: 3\n",
      "draws: 2\n",
      "OLD MODEL WIN\n",
      "len match memory: 73\n",
      "Epoch 1/4\n",
      "6/6 [==============================] - 0s 28ms/step - loss: 3.6401 - policy_loss: 2.2912 - value_loss: 1.3488\n",
      "Epoch 2/4\n",
      "6/6 [==============================] - 0s 30ms/step - loss: 1.7037 - policy_loss: 0.8798 - value_loss: 0.8240\n",
      "Epoch 3/4\n",
      "6/6 [==============================] - 0s 31ms/step - loss: 1.0656 - policy_loss: 0.4182 - value_loss: 0.6473\n",
      "Epoch 4/4\n",
      "6/6 [==============================] - 0s 31ms/step - loss: 0.6835 - policy_loss: 0.2851 - value_loss: 0.3984\n"
     ]
    },
    {
     "name": "stderr",
     "output_type": "stream",
     "text": [
      "\r",
      " 71%|███████   | 71/100 [09:08<04:04,  8.44s/it]"
     ]
    },
    {
     "name": "stdout",
     "output_type": "stream",
     "text": [
      "player 1 wins: 5\n",
      "player 2 wins: 4\n",
      "draws: 1\n",
      "OLD MODEL WIN\n",
      "len match memory: 80\n",
      "Epoch 1/4\n",
      "8/8 [==============================] - 0s 51ms/step - loss: 3.3608 - policy_loss: 2.0518 - value_loss: 1.3090\n",
      "Epoch 2/4\n",
      "8/8 [==============================] - 0s 39ms/step - loss: 1.4077 - policy_loss: 0.6537 - value_loss: 0.7540\n",
      "Epoch 3/4\n",
      "8/8 [==============================] - 0s 34ms/step - loss: 0.9163 - policy_loss: 0.3567 - value_loss: 0.5595\n",
      "Epoch 4/4\n",
      "8/8 [==============================] - 0s 34ms/step - loss: 0.6137 - policy_loss: 0.1457 - value_loss: 0.4680\n"
     ]
    },
    {
     "name": "stderr",
     "output_type": "stream",
     "text": [
      "\r",
      " 72%|███████▏  | 72/100 [09:21<04:31,  9.71s/it]"
     ]
    },
    {
     "name": "stdout",
     "output_type": "stream",
     "text": [
      "player 1 wins: 6\n",
      "player 2 wins: 4\n",
      "draws: 0\n",
      "OLD MODEL WIN\n",
      "len match memory: 85\n",
      "Epoch 1/4\n",
      "10/10 [==============================] - 0s 31ms/step - loss: 2.8499 - policy_loss: 1.7702 - value_loss: 1.0796\n",
      "Epoch 2/4\n",
      "10/10 [==============================] - 0s 34ms/step - loss: 1.2696 - policy_loss: 0.5639 - value_loss: 0.7057\n",
      "Epoch 3/4\n",
      "10/10 [==============================] - 0s 33ms/step - loss: 0.7265 - policy_loss: 0.1757 - value_loss: 0.5508\n",
      "Epoch 4/4\n",
      "10/10 [==============================] - 0s 34ms/step - loss: 0.5570 - policy_loss: 0.1231 - value_loss: 0.4339\n"
     ]
    },
    {
     "name": "stderr",
     "output_type": "stream",
     "text": [
      "\r",
      " 73%|███████▎  | 73/100 [09:35<04:56, 10.97s/it]"
     ]
    },
    {
     "name": "stdout",
     "output_type": "stream",
     "text": [
      "player 1 wins: 4\n",
      "player 2 wins: 4\n",
      "draws: 2\n",
      "OLD MODEL WIN\n",
      "len match memory: 90\n",
      "Epoch 1/4\n",
      "12/12 [==============================] - 0s 32ms/step - loss: 2.4371 - policy_loss: 1.5085 - value_loss: 0.9286\n",
      "Epoch 2/4\n",
      "12/12 [==============================] - 0s 34ms/step - loss: 0.8847 - policy_loss: 0.5306 - value_loss: 0.3541\n",
      "Epoch 3/4\n",
      "12/12 [==============================] - 0s 34ms/step - loss: 0.4817 - policy_loss: 0.1858 - value_loss: 0.2959\n",
      "Epoch 4/4\n",
      "12/12 [==============================] - 0s 36ms/step - loss: 0.3780 - policy_loss: 0.0850 - value_loss: 0.2931\n"
     ]
    },
    {
     "name": "stderr",
     "output_type": "stream",
     "text": [
      "\r",
      " 74%|███████▍  | 74/100 [09:47<04:56, 11.40s/it]"
     ]
    },
    {
     "name": "stdout",
     "output_type": "stream",
     "text": [
      "player 1 wins: 5\n",
      "player 2 wins: 5\n",
      "draws: 0\n",
      "OLD MODEL WIN\n",
      "len match memory: 95\n",
      "Epoch 1/4\n",
      "14/14 [==============================] - 0s 32ms/step - loss: 2.3889 - policy_loss: 1.5149 - value_loss: 0.8740\n",
      "Epoch 2/4\n",
      "14/14 [==============================] - 0s 35ms/step - loss: 0.8588 - policy_loss: 0.3881 - value_loss: 0.4707\n",
      "Epoch 3/4\n",
      "14/14 [==============================] - 0s 34ms/step - loss: 0.4685 - policy_loss: 0.1315 - value_loss: 0.3370\n",
      "Epoch 4/4\n",
      "14/14 [==============================] - 0s 34ms/step - loss: 0.3456 - policy_loss: 0.0723 - value_loss: 0.2733\n"
     ]
    },
    {
     "name": "stderr",
     "output_type": "stream",
     "text": [
      "\r",
      " 75%|███████▌  | 75/100 [10:00<04:50, 11.63s/it]"
     ]
    },
    {
     "name": "stdout",
     "output_type": "stream",
     "text": [
      "player 1 wins: 5\n",
      "player 2 wins: 5\n",
      "draws: 0\n",
      "OLD MODEL WIN\n",
      "len match memory: 100\n",
      "Epoch 1/4\n",
      "16/16 [==============================] - 1s 35ms/step - loss: 2.0590 - policy_loss: 1.2562 - value_loss: 0.8028\n",
      "Epoch 2/4\n",
      "16/16 [==============================] - 1s 35ms/step - loss: 0.7086 - policy_loss: 0.3256 - value_loss: 0.3830\n",
      "Epoch 3/4\n",
      "16/16 [==============================] - 1s 34ms/step - loss: 0.3479 - policy_loss: 0.0858 - value_loss: 0.2622\n",
      "Epoch 4/4\n",
      "16/16 [==============================] - 1s 35ms/step - loss: 0.2628 - policy_loss: 0.0627 - value_loss: 0.2001\n"
     ]
    },
    {
     "name": "stderr",
     "output_type": "stream",
     "text": [
      "\r",
      " 76%|███████▌  | 76/100 [10:13<04:50, 12.12s/it]"
     ]
    },
    {
     "name": "stdout",
     "output_type": "stream",
     "text": [
      "player 1 wins: 4\n",
      "player 2 wins: 6\n",
      "draws: 0\n",
      "NEW MODEL WIN/DRAW\n",
      "len match memory: 0\n"
     ]
    },
    {
     "name": "stderr",
     "output_type": "stream",
     "text": [
      " 84%|████████▍ | 84/100 [10:27<00:36,  2.28s/it]"
     ]
    },
    {
     "name": "stdout",
     "output_type": "stream",
     "text": [
      "Epoch 1/4\n",
      "2/2 [==============================] - 0s 16ms/step - loss: 3.7085 - policy_loss: 2.9043 - value_loss: 0.8042\n",
      "Epoch 2/4\n",
      "2/2 [==============================] - 0s 22ms/step - loss: 2.2351 - policy_loss: 1.7973 - value_loss: 0.4378\n",
      "Epoch 3/4\n",
      "2/2 [==============================] - 0s 21ms/step - loss: 1.3229 - policy_loss: 0.9124 - value_loss: 0.4105\n",
      "Epoch 4/4\n",
      "2/2 [==============================] - 0s 26ms/step - loss: 1.1590 - policy_loss: 0.7358 - value_loss: 0.4232\n"
     ]
    },
    {
     "name": "stderr",
     "output_type": "stream",
     "text": [
      "\r",
      " 85%|████████▌ | 85/100 [10:39<01:19,  5.27s/it]"
     ]
    },
    {
     "name": "stdout",
     "output_type": "stream",
     "text": [
      "player 1 wins: 3\n",
      "player 2 wins: 6\n",
      "draws: 1\n",
      "NEW MODEL WIN/DRAW\n",
      "len match memory: 0\n"
     ]
    },
    {
     "name": "stderr",
     "output_type": "stream",
     "text": [
      " 94%|█████████▍| 94/100 [10:53<00:09,  1.61s/it]"
     ]
    },
    {
     "name": "stdout",
     "output_type": "stream",
     "text": [
      "Epoch 1/4\n",
      "2/2 [==============================] - 0s 17ms/step - loss: 2.9474 - policy_loss: 2.0917 - value_loss: 0.8557\n",
      "Epoch 2/4\n",
      "2/2 [==============================] - 0s 22ms/step - loss: 1.9628 - policy_loss: 1.2776 - value_loss: 0.6853\n",
      "Epoch 3/4\n",
      "2/2 [==============================] - 0s 21ms/step - loss: 1.3616 - policy_loss: 1.0081 - value_loss: 0.3535\n",
      "Epoch 4/4\n",
      "2/2 [==============================] - 0s 21ms/step - loss: 0.9420 - policy_loss: 0.7968 - value_loss: 0.1451\n"
     ]
    },
    {
     "name": "stderr",
     "output_type": "stream",
     "text": [
      "\r",
      " 95%|█████████▌| 95/100 [11:04<00:22,  4.57s/it]"
     ]
    },
    {
     "name": "stdout",
     "output_type": "stream",
     "text": [
      "player 1 wins: 2\n",
      "player 2 wins: 7\n",
      "draws: 1\n",
      "NEW MODEL WIN/DRAW\n",
      "len match memory: 0\n"
     ]
    },
    {
     "name": "stderr",
     "output_type": "stream",
     "text": [
      "100%|██████████| 100/100 [11:13<00:00,  6.74s/it]\n"
     ]
    }
   ],
   "source": [
    "match_memory = []\n",
    "results = []\n",
    "\n",
    "train = True\n",
    "root = None\n",
    "x_train = []\n",
    "policy_train = []\n",
    "value_train = []\n",
    "\n",
    "for epoch in tqdm(range(EPOCHS)):\n",
    "    game = Game()\n",
    "    root = MCTSNode(game, 1)\n",
    "    while not game.is_game_over():\n",
    "        for i in range(MCTS_ITERATIONS):\n",
    "            iteration_done = False\n",
    "            current = root\n",
    "            while not iteration_done:\n",
    "                if current.is_leaf():\n",
    "                    if current.N == 0:\n",
    "                        current.rollout()\n",
    "                        iteration_done = True\n",
    "                    elif current.N > 0:\n",
    "                        current.set_children()\n",
    "                        current = current.select_child()\n",
    "                        current.rollout()\n",
    "                        iteration_done = True\n",
    "                else:\n",
    "                    current = current.select_child()\n",
    "\n",
    "        visits = [i.N for i in root.children]\n",
    "        s = sum(visits)\n",
    "        scores = [i/s for i in visits]\n",
    "        child = np.random.choice(root.children, p=scores)\n",
    "        root = child\n",
    "        row, col = child.action\n",
    "        p = np.zeros((3,3)); p[row][col] = 1; p = p.reshape((9,))\n",
    "        game.push(child.action, game.turn())\n",
    "        match_memory.append([b_to_img(root.state), p, None])\n",
    "\n",
    "    final_result = game.result()\n",
    "    results.append(final_result)\n",
    "    for i in range(len(match_memory)):\n",
    "        if match_memory[i][2] == None:\n",
    "            match_memory[i][2] = final_result\n",
    "            \n",
    "    if len(match_memory) > TRAINING_SIZE:\n",
    "        random.shuffle(match_memory)\n",
    "        if train:\n",
    "            del x_train\n",
    "            del policy_train\n",
    "            del value_train\n",
    "            x_train = []\n",
    "            policy_train = []\n",
    "            value_train = []\n",
    "\n",
    "        for i in range(TRAINING_SIZE):\n",
    "            x_train.append((match_memory[i][0]))\n",
    "            policy_train.append(match_memory[i][1])\n",
    "            value_train.append(match_memory[i][2])\n",
    "\n",
    "        x_train = np.asarray(x_train)\n",
    "        policy_train = np.asarray(policy_train)\n",
    "        value_train = np.asarray(value_train)\n",
    "\n",
    "        old_weights = model.get_weights()\n",
    "        old_model = create_model()\n",
    "        old_model.set_weights(old_weights)\n",
    "\n",
    "        model.fit(x=x_train, y=[policy_train, value_train], \n",
    "                batch_size=32, verbose=1, epochs=4)\n",
    "\n",
    "        if not model_vs_model(old_model, model):\n",
    "            train = False\n",
    "            x_train = list(x_train)\n",
    "            policy_train = list(policy_train)\n",
    "            value_train = list(value_train)\n",
    "            del model\n",
    "            model = old_model\n",
    "            print(\"OLD MODEL WIN\")\n",
    "        else:\n",
    "            train = True\n",
    "            del old_weights\n",
    "            del old_model\n",
    "            del match_memory\n",
    "            match_memory = []\n",
    "            print(\"NEW MODEL WIN/DRAW\")\n",
    "        print(f'len match memory: {len(match_memory)}')"
   ]
  },
  {
   "cell_type": "code",
   "execution_count": 10,
   "metadata": {},
   "outputs": [],
   "source": [
    "model.save('model.h5')"
   ]
  },
  {
   "cell_type": "code",
   "execution_count": 14,
   "metadata": {},
   "outputs": [
    {
     "name": "stdout",
     "output_type": "stream",
     "text": [
      "[[0. 0. 0.]\n",
      " [0. 0. 0.]\n",
      " [0. 0. 0.]]\n",
      "\n",
      "\n",
      "[[0. 0. 0.]\n",
      " [0. 0. 0.]\n",
      " [0. 0. 1.]]\n",
      "\n",
      "\n",
      "[[ 0.  0.  0.]\n",
      " [ 0. -1.  0.]\n",
      " [ 0.  0.  1.]]\n",
      "\n",
      "\n",
      "[[ 0.  0.  1.]\n",
      " [ 0. -1.  0.]\n",
      " [ 0.  0.  1.]]\n",
      "\n",
      "\n",
      "[[-1.  0.  1.]\n",
      " [ 0. -1.  0.]\n",
      " [ 0.  0.  1.]]\n",
      "\n",
      "\n",
      "[[-1.  0.  1.]\n",
      " [ 0. -1.  1.]\n",
      " [ 0.  0.  1.]]\n",
      "\n",
      "\n",
      "result: 1.0\n"
     ]
    }
   ],
   "source": [
    "# vs random player\n",
    "nnet_player = 1\n",
    "player = 1\n",
    "game = Game()\n",
    "while not game.is_game_over():\n",
    "    print(game.board)\n",
    "    print('\\n')\n",
    "    if player == nnet_player:\n",
    "        root = MCTSNode(game, 1)\n",
    "        for i in range(300):\n",
    "            iteration_done = False\n",
    "            current = root\n",
    "            while not iteration_done:\n",
    "                if current.is_leaf():\n",
    "                    if current.N == 0:\n",
    "                        current.rollout()\n",
    "                        iteration_done = True\n",
    "                    elif current.N > 0:\n",
    "                        current.set_children()\n",
    "                        current = current.select_child()\n",
    "                        current.rollout()\n",
    "                        iteration_done = True\n",
    "                else:\n",
    "                    current = current.select_child()\n",
    "\n",
    "        visits = [i.N for i in root.children]\n",
    "        s = sum(visits)\n",
    "        scores = [i / s for i in visits]\n",
    "        child = root.children[np.argmax(visits)]\n",
    "        row, col = child.action\n",
    "        assert(player == game.turn())\n",
    "        game.push(child.action, player)\n",
    "        player *= -1        \n",
    "    else:\n",
    "        game.push(random.choice(game.legal_moves()), player)\n",
    "        player *= -1\n",
    "\n",
    "print(game.board)\n",
    "print('\\n')\n",
    "print('result:', game.result())"
   ]
  },
  {
   "cell_type": "code",
   "execution_count": 12,
   "metadata": {},
   "outputs": [
    {
     "name": "stdout",
     "output_type": "stream",
     "text": [
      "[[0. 0. 0.]\n",
      " [0. 0. 0.]\n",
      " [0. 0. 0.]]\n",
      "\n",
      "\n",
      "[[0. 0. 0.]\n",
      " [0. 0. 1.]\n",
      " [0. 0. 0.]]\n",
      "\n",
      "\n",
      "insert a row: 0\n",
      "insert a column: 0\n",
      "\n",
      "\n",
      "[[-1.  0.  0.]\n",
      " [ 0.  0.  1.]\n",
      " [ 0.  0.  0.]]\n",
      "\n",
      "\n",
      "[[-1.  0.  0.]\n",
      " [ 1.  0.  1.]\n",
      " [ 0.  0.  0.]]\n",
      "\n",
      "\n",
      "insert a row: 1\n",
      "insert a column: 1\n",
      "\n",
      "\n",
      "[[-1.  0.  0.]\n",
      " [ 1. -1.  1.]\n",
      " [ 0.  0.  0.]]\n",
      "\n",
      "\n",
      "[[-1.  0.  0.]\n",
      " [ 1. -1.  1.]\n",
      " [ 0.  0.  1.]]\n",
      "\n",
      "\n",
      "insert a row: 0\n",
      "insert a column: 2\n",
      "\n",
      "\n",
      "[[-1.  0. -1.]\n",
      " [ 1. -1.  1.]\n",
      " [ 0.  0.  1.]]\n",
      "\n",
      "\n",
      "[[-1.  0. -1.]\n",
      " [ 1. -1.  1.]\n",
      " [ 1.  0.  1.]]\n",
      "\n",
      "\n",
      "insert a row: 2\n",
      "insert a column: 1\n",
      "\n",
      "\n",
      "[[-1.  0. -1.]\n",
      " [ 1. -1.  1.]\n",
      " [ 1. -1.  1.]]\n",
      "\n",
      "\n",
      "[[-1.  1. -1.]\n",
      " [ 1. -1.  1.]\n",
      " [ 1. -1.  1.]]\n",
      "\n",
      "\n",
      "result: 0\n"
     ]
    }
   ],
   "source": [
    "# vs human playing first\n",
    "nnet_player = 1\n",
    "player = 1\n",
    "game = Game()\n",
    "while not game.is_game_over():\n",
    "    print(game.board)\n",
    "    print('\\n')\n",
    "    if player == nnet_player:\n",
    "        root = MCTSNode(game, 1)\n",
    "        for i in range(300):\n",
    "            iteration_done = False\n",
    "            current = root\n",
    "            while not iteration_done:\n",
    "                if current.is_leaf():\n",
    "                    if current.N == 0:\n",
    "                        current.rollout()\n",
    "                        iteration_done = True\n",
    "                    elif current.N > 0:\n",
    "                        current.set_children()\n",
    "                        current = current.select_child()\n",
    "                        current.rollout()\n",
    "                        iteration_done = True\n",
    "                else:\n",
    "                    current = current.select_child()\n",
    "\n",
    "        visits = [i.N for i in root.children]\n",
    "        s = sum(visits)\n",
    "        scores = [i / s for i in visits]\n",
    "        child = root.children[np.argmax(visits)]\n",
    "        row, col = child.action\n",
    "        assert(player == game.turn())\n",
    "        game.push(child.action, player)\n",
    "        player *= -1        \n",
    "    else:\n",
    "        r = int(input('insert a row: '))\n",
    "        c = int(input('insert a column: '))\n",
    "        print('\\n')\n",
    "        assert((r,c) in game.legal_moves())\n",
    "        game.push((r,c), player)\n",
    "        player *= -1\n",
    "\n",
    "print(game.board)\n",
    "print('\\n')\n",
    "print('result:', game.result())"
   ]
  },
  {
   "cell_type": "code",
   "execution_count": 13,
   "metadata": {},
   "outputs": [
    {
     "name": "stdout",
     "output_type": "stream",
     "text": [
      "[[0. 0. 0.]\n",
      " [0. 0. 0.]\n",
      " [0. 0. 0.]]\n",
      "\n",
      "\n",
      "insert a row: 0\n",
      "insert a column: 0\n",
      "\n",
      "\n",
      "[[1. 0. 0.]\n",
      " [0. 0. 0.]\n",
      " [0. 0. 0.]]\n",
      "\n",
      "\n",
      "[[ 1.  0.  0.]\n",
      " [ 0. -1.  0.]\n",
      " [ 0.  0.  0.]]\n",
      "\n",
      "\n",
      "insert a row: 0\n",
      "insert a column: 2\n",
      "\n",
      "\n",
      "[[ 1.  0.  1.]\n",
      " [ 0. -1.  0.]\n",
      " [ 0.  0.  0.]]\n",
      "\n",
      "\n",
      "[[ 1. -1.  1.]\n",
      " [ 0. -1.  0.]\n",
      " [ 0.  0.  0.]]\n",
      "\n",
      "\n",
      "insert a row: 2\n",
      "insert a column: 1\n",
      "\n",
      "\n",
      "[[ 1. -1.  1.]\n",
      " [ 0. -1.  0.]\n",
      " [ 0.  1.  0.]]\n",
      "\n",
      "\n",
      "[[ 1. -1.  1.]\n",
      " [ 0. -1.  0.]\n",
      " [-1.  1.  0.]]\n",
      "\n",
      "\n",
      "insert a row: 1\n",
      "insert a column: 2\n",
      "\n",
      "\n",
      "[[ 1. -1.  1.]\n",
      " [ 0. -1.  1.]\n",
      " [-1.  1.  0.]]\n",
      "\n",
      "\n",
      "[[ 1. -1.  1.]\n",
      " [ 0. -1.  1.]\n",
      " [-1.  1. -1.]]\n",
      "\n",
      "\n",
      "insert a row: 1\n",
      "insert a column: 0\n",
      "\n",
      "\n",
      "[[ 1. -1.  1.]\n",
      " [ 1. -1.  1.]\n",
      " [-1.  1. -1.]]\n",
      "\n",
      "\n",
      "result: 0\n"
     ]
    }
   ],
   "source": [
    "# vs human playing second\n",
    "nnet_player = -1\n",
    "player = 1\n",
    "game = Game()\n",
    "while not game.is_game_over():\n",
    "    print(game.board)\n",
    "    print('\\n')\n",
    "    if player == nnet_player:\n",
    "        root = MCTSNode(game, 1)\n",
    "        for i in range(300):\n",
    "            iteration_done = False\n",
    "            current = root\n",
    "            while not iteration_done:\n",
    "                if current.is_leaf():\n",
    "                    if current.N == 0:\n",
    "                        current.rollout()\n",
    "                        iteration_done = True\n",
    "                    elif current.N > 0:\n",
    "                        current.set_children()\n",
    "                        current = current.select_child()\n",
    "                        current.rollout()\n",
    "                        iteration_done = True\n",
    "                else:\n",
    "                    current = current.select_child()\n",
    "\n",
    "        visits = [i.N for i in root.children]\n",
    "        s = sum(visits)\n",
    "        scores = [i / s for i in visits]\n",
    "        child = root.children[np.argmax(visits)]\n",
    "        row, col = child.action\n",
    "        assert(player == game.turn())\n",
    "        game.push(child.action, player)\n",
    "        player *= -1        \n",
    "    else:\n",
    "        r = int(input('insert a row: '))\n",
    "        c = int(input('insert a column: '))\n",
    "        print('\\n')\n",
    "        assert((r,c) in game.legal_moves())\n",
    "        game.push((r,c), player)\n",
    "        player *= -1\n",
    "\n",
    "print(game.board)\n",
    "print('\\n')\n",
    "print('result:', game.result())"
   ]
  }
 ],
 "metadata": {
  "kernelspec": {
   "display_name": "Python 3",
   "language": "python",
   "name": "python3"
  },
  "language_info": {
   "codemirror_mode": {
    "name": "ipython",
    "version": 3
   },
   "file_extension": ".py",
   "mimetype": "text/x-python",
   "name": "python",
   "nbconvert_exporter": "python",
   "pygments_lexer": "ipython3",
   "version": "3.8.5"
  }
 },
 "nbformat": 4,
 "nbformat_minor": 4
}
